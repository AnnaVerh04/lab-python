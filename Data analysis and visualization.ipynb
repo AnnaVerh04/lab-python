{
 "cells": [
  {
   "cell_type": "markdown",
   "metadata": {},
   "source": [
    "# LAB4"
   ]
  },
  {
   "cell_type": "markdown",
   "metadata": {},
   "source": [
    "#### Функция чтения аннотации"
   ]
  },
  {
   "cell_type": "code",
   "execution_count": null,
   "metadata": {},
   "outputs": [],
   "source": [
    "import csv\n",
    "import typing\n",
    "import pandas as pd\n",
    "import cv2 "
   ]
  },
  {
   "cell_type": "code",
   "execution_count": null,
   "metadata": {},
   "outputs": [],
   "source": [
    "def read_file(path: str) -> list[list[str]]:\n",
    "    '''Читает файл path и возвращает матрицу имён файлов'''\n",
    "    files: list[list[str]] = []\n",
    "    csvfile: typing.TextIO = open(path, \"r\")\n",
    "    reader: csv.DictReader = csv.DictReader(csvfile, delimiter=\",\")\n",
    "    for row in reader:\n",
    "        files.append([row[\"full_path\"], row[\"class\"]])\n",
    "    return files\n",
    "\n",
    "list_file_info: list[list[str]] = read_file(\"annotation.csv\")"
   ]
  },
  {
   "cell_type": "markdown",
   "metadata": {},
   "source": [
    "#### (1) Создание датафрейма с двумя колонками"
   ]
  },
  {
   "cell_type": "code",
   "execution_count": null,
   "metadata": {},
   "outputs": [],
   "source": [
    "def create_df_with_two_columns(list_files_info):\n",
    "    df = pd.DataFrame(columns=[\"Name\", \"AbsPath\"])\n",
    "    for file_info in list_files_info:\n",
    "        df.loc[len(df)] = [file_info[1], file_info[0]]\n",
    "    return df\n",
    "\n",
    "create_df_with_two_columns(list_file_info)"
   ]
  },
  {
   "cell_type": "markdown",
   "metadata": {},
   "source": [
    "#### (2,3,4) Именование колонок, метка, форма"
   ]
  },
  {
   "cell_type": "code",
   "execution_count": null,
   "metadata": {},
   "outputs": [],
   "source": [
    "def create_df(list_files_info):\n",
    "    df = pd.DataFrame(columns=[\"Name\", \"AbsPath\", \"ClassId\", \"Weight\", \"Height\", \"Depth\"])\n",
    "    for file_info in list_file_info:\n",
    "        class_id = (0 if \"cat\" == file_info[1] else 1)\n",
    "        im = cv2.imread(file_info[0])\n",
    "        h,w,c = im.shape\n",
    "        df.loc[len(df)] = [file_info[1], file_info[0], class_id, w,h,c]\n",
    "    return df\n",
    "\n",
    "df = create_df(list_file_info)\n",
    "df"
   ]
  },
  {
   "cell_type": "markdown",
   "metadata": {},
   "source": [
    "#### (5) Статистическая информация"
   ]
  },
  {
   "cell_type": "code",
   "execution_count": null,
   "metadata": {},
   "outputs": [],
   "source": [
    "def get_static_info(df):\n",
    "    \"\"\"\n",
    "    \n",
    "    \"\"\"\n",
    "    return {\"Height\": df[\"Height\"].mean(), \"Weight\": df[\"Weight\"].mean(),\n",
    "            \"Depht\":  df[\"Depth\"].mean(), \"ClassId\": df[\"ClassId\"].mean()}\n",
    "\n",
    "get_static_info(df)"
   ]
  }
 ],
 "metadata": {
  "kernelspec": {
   "display_name": ".venv",
   "language": "python",
   "name": "python3"
  },
  "language_info": {
   "codemirror_mode": {
    "name": "ipython",
    "version": 3
   },
   "file_extension": ".py",
   "mimetype": "text/x-python",
   "name": "python",
   "nbconvert_exporter": "python",
   "pygments_lexer": "ipython3",
   "version": "3.11.5"
  },
  "orig_nbformat": 4
 },
 "nbformat": 4,
 "nbformat_minor": 2
}
