{
 "cells": [
  {
   "cell_type": "markdown",
   "metadata": {},
   "source": [
    "# LAB4"
   ]
  },
  {
   "cell_type": "markdown",
   "metadata": {},
   "source": [
    "#### Функция чтения аннотации"
   ]
  },
  {
   "cell_type": "code",
   "execution_count": null,
   "metadata": {},
   "outputs": [],
   "source": [
    "import csv\n",
    "import typing\n",
    "import pandas as pd\n",
    "import cv2 "
   ]
  },
  {
   "cell_type": "code",
   "execution_count": null,
   "metadata": {},
   "outputs": [],
   "source": [
    "def read_file(path: str) -> list[list[str]]:\n",
    "    '''Читает файл path и возвращает матрицу имён файлов'''\n",
    "    files: list[list[str]] = []\n",
    "    csvfile: typing.TextIO = open(path, \"r\")\n",
    "    reader: csv.DictReader = csv.DictReader(csvfile, delimiter=\",\")\n",
    "    for row in reader:\n",
    "        files.append([row[\"full_path\"], row[\"class\"]])\n",
    "    return files\n",
    "\n",
    "list_file_info: list[list[str]] = read_file(\"annotation.csv\")"
   ]
  },
  {
   "cell_type": "markdown",
   "metadata": {},
   "source": [
    "#### (1) Создание датафрейма с двумя колонками"
   ]
  },
  {
   "cell_type": "code",
   "execution_count": null,
   "metadata": {},
   "outputs": [],
   "source": [
    "def create_df_with_two_columns(list_files_info):\n",
    "    df = pd.DataFrame(columns=[\"Name\", \"AbsPath\"])\n",
    "    for file_info in list_files_info:\n",
    "        df.loc[len(df)] = [file_info[1], file_info[0]]\n",
    "    return df\n",
    "\n",
    "create_df_with_two_columns(list_file_info)"
   ]
  },
  {
   "cell_type": "markdown",
   "metadata": {},
   "source": [
    "#### (2,3,4) Именование колонок, метка, форма"
   ]
  },
  {
   "cell_type": "code",
   "execution_count": null,
   "metadata": {},
   "outputs": [],
   "source": [
    "def create_df(list_files_info):\n",
    "    df = pd.DataFrame(columns=[\"Name\", \"AbsPath\", \"ClassId\", \"Weight\", \"Height\", \"Depth\"])\n",
    "    for file_info in list_file_info:\n",
    "        class_id = (0 if \"cat\" == file_info[1] else 1)\n",
    "        im = cv2.imread(file_info[0])\n",
    "        h,w,c = im.shape\n",
    "        df.loc[len(df)] = [file_info[1], file_info[0], class_id, w,h,c]\n",
    "    return df\n",
    "\n",
    "df = create_df(list_file_info)\n",
    "df"
   ]
  },
  {
   "cell_type": "markdown",
   "metadata": {},
   "source": [
    "#### (5) Статистическая информация"
   ]
  },
  {
   "cell_type": "code",
   "execution_count": null,
   "metadata": {},
   "outputs": [],
   "source": [
    "def get_static_info(df):\n",
    "    \"\"\"\n",
    "    \n",
    "    \"\"\"\n",
    "    return {\"Height\": df[\"Height\"].mean(), \"Weight\": df[\"Weight\"].mean(),\n",
    "            \"Depht\":  df[\"Depth\"].mean(), \"ClassId\": df[\"ClassId\"].mean()}\n",
    "\n",
    "get_static_info(df)"
   ]
  },
  {
   "cell_type": "markdown",
   "metadata": {},
   "source": [
    "#### (6) Фильтрация по классу"
   ]
  },
  {
   "cell_type": "code",
   "execution_count": null,
   "metadata": {},
   "outputs": [],
   "source": [
    "def df_filter_by_class_id(df, class_id) -> pd.DataFrame:\n",
    "    return df.loc[ df[\"ClassId\"] == class_id ]\n",
    "\n",
    "df_filter_by_class_id(df, 1)"
   ]
  },
  {
   "cell_type": "markdown",
   "metadata": {},
   "source": [
    "#### (7) Фильтрация по размеру и классу"
   ]
  },
  {
   "cell_type": "code",
   "execution_count": null,
   "metadata": {},
   "outputs": [],
   "source": [
    "def df_filter_by_size_and_class_id(df, weight, height, class_id):\n",
    "     return df.loc[ (df[\"ClassId\"] == class_id) & (df[\"Weight\"] <= weight) & (df[\"Height\"] <= height) ]\n",
    "\n",
    "df_filter_by_size_and_class_id(df, 320, 320, 1)"
   ]
  },
  {
   "cell_type": "markdown",
   "metadata": {},
   "source": [
    "#### (8) Добавление поля количества пикселей"
   ]
  },
  {
   "cell_type": "code",
   "execution_count": null,
   "metadata": {},
   "outputs": [],
   "source": [
    "def df_add_pixel_column(df):\n",
    "    return df.assign(PixelSize = df[\"Height\"] * df[\"Weight\"])\n",
    "\n",
    "df = df_add_pixel_column(df)\n",
    "df"
   ]
  },
  {
   "cell_type": "code",
   "execution_count": 31,
   "metadata": {},
   "outputs": [],
   "source": [
    "def df_group_by_class_id(df):\n",
    "    return df.groupby([\"ClassId\"])\n",
    "\n",
    "group_df = df_group_by_class_id(df)"
   ]
  },
  {
   "cell_type": "markdown",
   "metadata": {},
   "source": [
    "#### Max"
   ]
  },
  {
   "cell_type": "code",
   "execution_count": 32,
   "metadata": {},
   "outputs": [
    {
     "data": {
      "text/plain": [
       "ClassId\n",
       "0    153600\n",
       "1    153600\n",
       "Name: PixelSize, dtype: int64"
      ]
     },
     "execution_count": 32,
     "metadata": {},
     "output_type": "execute_result"
    }
   ],
   "source": [
    "group_df[\"PixelSize\"].max()"
   ]
  },
  {
   "cell_type": "markdown",
   "metadata": {},
   "source": [
    "#### Mean"
   ]
  },
  {
   "cell_type": "code",
   "execution_count": 33,
   "metadata": {},
   "outputs": [
    {
     "data": {
      "text/plain": [
       "ClassId\n",
       "0    135480.64\n",
       "1    138424.64\n",
       "Name: PixelSize, dtype: float64"
      ]
     },
     "execution_count": 33,
     "metadata": {},
     "output_type": "execute_result"
    }
   ],
   "source": [
    "group_df[\"PixelSize\"].mean()"
   ]
  },
  {
   "cell_type": "markdown",
   "metadata": {},
   "source": [
    "#### Min"
   ]
  },
  {
   "cell_type": "code",
   "execution_count": 34,
   "metadata": {},
   "outputs": [
    {
     "data": {
      "text/plain": [
       "ClassId\n",
       "0    51200\n",
       "1    66880\n",
       "Name: PixelSize, dtype: int64"
      ]
     },
     "execution_count": 34,
     "metadata": {},
     "output_type": "execute_result"
    }
   ],
   "source": [
    "group_df[\"PixelSize\"].min()"
   ]
  }
 ],
 "metadata": {
  "kernelspec": {
   "display_name": ".venv",
   "language": "python",
   "name": "python3"
  },
  "language_info": {
   "codemirror_mode": {
    "name": "ipython",
    "version": 3
   },
   "file_extension": ".py",
   "mimetype": "text/x-python",
   "name": "python",
   "nbconvert_exporter": "python",
   "pygments_lexer": "ipython3",
   "version": "3.11.5"
  },
  "orig_nbformat": 4
 },
 "nbformat": 4,
 "nbformat_minor": 2
}
