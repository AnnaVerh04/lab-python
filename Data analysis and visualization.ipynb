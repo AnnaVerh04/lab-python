{
 "cells": [
  {
   "cell_type": "markdown",
   "metadata": {},
   "source": [
    "# LAB4"
   ]
  },
  {
   "cell_type": "markdown",
   "metadata": {},
   "source": [
    "#### Функция чтения аннотации"
   ]
  },
  {
   "cell_type": "code",
   "execution_count": null,
   "metadata": {},
   "outputs": [],
   "source": [
    "import csv\n",
    "import typing\n",
    "import pandas as pd"
   ]
  },
  {
   "cell_type": "code",
   "execution_count": null,
   "metadata": {},
   "outputs": [],
   "source": [
    "def read_file(path: str) -> list[list[str]]:\n",
    "    '''Читает файл path и возвращает матрицу имён файлов'''\n",
    "    files: list[list[str]] = []\n",
    "    csvfile: typing.TextIO = open(path, \"r\")\n",
    "    reader: csv.DictReader = csv.DictReader(csvfile, delimiter=\",\")\n",
    "    for row in reader:\n",
    "        files.append([row[\"full_path\"], row[\"class\"]])\n",
    "    return files\n",
    "\n",
    "list_file_info: list[list[str]] = read_file(\"annotation.csv\")"
   ]
  },
  {
   "cell_type": "markdown",
   "metadata": {},
   "source": [
    "#### (1) Создание датафрейма с двумя колонками"
   ]
  },
  {
   "cell_type": "code",
   "execution_count": null,
   "metadata": {},
   "outputs": [],
   "source": [
    "def create_df_with_two_columns(list_files_info):\n",
    "    df = pd.DataFrame(columns=[\"Name\", \"AbsPath\"])\n",
    "    for file_info in list_files_info:\n",
    "        df.loc[len(df)] = [file_info[1], file_info[0]]\n",
    "    return df\n",
    "\n",
    "create_df_with_two_columns(list_file_info)"
   ]
  }
 ],
 "metadata": {
  "kernelspec": {
   "display_name": ".venv",
   "language": "python",
   "name": "python3"
  },
  "language_info": {
   "codemirror_mode": {
    "name": "ipython",
    "version": 3
   },
   "file_extension": ".py",
   "mimetype": "text/x-python",
   "name": "python",
   "nbconvert_exporter": "python",
   "pygments_lexer": "ipython3",
   "version": "3.11.5"
  },
  "orig_nbformat": 4
 },
 "nbformat": 4,
 "nbformat_minor": 2
}
