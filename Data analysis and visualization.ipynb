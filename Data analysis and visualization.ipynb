{
 "cells": [
  {
   "cell_type": "markdown",
   "metadata": {},
   "source": [
    "# LAB4"
   ]
  },
  {
   "cell_type": "markdown",
   "metadata": {},
   "source": [
    "#### Функция чтения аннотации"
   ]
  },
  {
   "cell_type": "code",
   "execution_count": null,
   "metadata": {},
   "outputs": [],
   "source": [
    "import csv\n",
    "import typing\n",
    "import pandas as pd\n",
    "import cv2 "
   ]
  },
  {
   "cell_type": "code",
   "execution_count": null,
   "metadata": {},
   "outputs": [],
   "source": [
    "def read_file(path: str) -> list[list[str]]:\n",
    "    '''Читает файл path и возвращает матрицу имён файлов'''\n",
    "    files: list[list[str]] = []\n",
    "    csvfile: typing.TextIO = open(path, \"r\")\n",
    "    reader: csv.DictReader = csv.DictReader(csvfile, delimiter=\",\")\n",
    "    for row in reader:\n",
    "        files.append([row[\"full_path\"], row[\"class\"]])\n",
    "    return files\n",
    "\n",
    "list_file_info: list[list[str]] = read_file(\"annotation.csv\")"
   ]
  },
  {
   "cell_type": "markdown",
   "metadata": {},
   "source": [
    "#### (1) Создание датафрейма с двумя колонками"
   ]
  },
  {
   "cell_type": "code",
   "execution_count": null,
   "metadata": {},
   "outputs": [],
   "source": [
    "def create_df_with_two_columns(list_files_info):\n",
    "    df = pd.DataFrame(columns=[\"Name\", \"AbsPath\"])\n",
    "    for file_info in list_files_info:\n",
    "        df.loc[len(df)] = [file_info[1], file_info[0]]\n",
    "    return df\n",
    "\n",
    "create_df_with_two_columns(list_file_info)"
   ]
  },
  {
   "cell_type": "markdown",
   "metadata": {},
   "source": [
    "#### (2,3,4) Именование колонок, метка, форма"
   ]
  },
  {
   "cell_type": "code",
   "execution_count": null,
   "metadata": {},
   "outputs": [],
   "source": [
    "def create_df(list_files_info):\n",
    "    df = pd.DataFrame(columns=[\"Name\", \"AbsPath\", \"ClassId\", \"Weight\", \"Height\", \"Depth\"])\n",
    "    for file_info in list_file_info:\n",
    "        class_id = (0 if \"cat\" == file_info[1] else 1)\n",
    "        im = cv2.imread(file_info[0])\n",
    "        h,w,c = im.shape\n",
    "        df.loc[len(df)] = [file_info[1], file_info[0], class_id, w,h,c]\n",
    "    return df\n",
    "\n",
    "df = create_df(list_file_info)\n",
    "df"
   ]
  },
  {
   "cell_type": "markdown",
   "metadata": {},
   "source": [
    "#### (5) Статистическая информация"
   ]
  },
  {
   "cell_type": "code",
   "execution_count": null,
   "metadata": {},
   "outputs": [],
   "source": [
    "def get_static_info(df):\n",
    "    \"\"\"\n",
    "    \n",
    "    \"\"\"\n",
    "    return {\"Height\": df[\"Height\"].mean(), \"Weight\": df[\"Weight\"].mean(),\n",
    "            \"Depht\":  df[\"Depth\"].mean(), \"ClassId\": df[\"ClassId\"].mean()}\n",
    "\n",
    "get_static_info(df)"
   ]
  },
  {
   "cell_type": "markdown",
   "metadata": {},
   "source": [
    "#### (6) Фильтрация по классу"
   ]
  },
  {
   "cell_type": "code",
   "execution_count": 21,
   "metadata": {},
   "outputs": [
    {
     "data": {
      "text/html": [
       "<div>\n",
       "<style scoped>\n",
       "    .dataframe tbody tr th:only-of-type {\n",
       "        vertical-align: middle;\n",
       "    }\n",
       "\n",
       "    .dataframe tbody tr th {\n",
       "        vertical-align: top;\n",
       "    }\n",
       "\n",
       "    .dataframe thead th {\n",
       "        text-align: right;\n",
       "    }\n",
       "</style>\n",
       "<table border=\"1\" class=\"dataframe\">\n",
       "  <thead>\n",
       "    <tr style=\"text-align: right;\">\n",
       "      <th></th>\n",
       "      <th>Name</th>\n",
       "      <th>AbsPath</th>\n",
       "      <th>ClassId</th>\n",
       "      <th>Weight</th>\n",
       "      <th>Height</th>\n",
       "      <th>Depth</th>\n",
       "    </tr>\n",
       "  </thead>\n",
       "  <tbody>\n",
       "    <tr>\n",
       "      <th>1000</th>\n",
       "      <td>dog</td>\n",
       "      <td>C:\\Users\\Professional\\Desktop\\lab python\\datas...</td>\n",
       "      <td>1</td>\n",
       "      <td>427</td>\n",
       "      <td>320</td>\n",
       "      <td>3</td>\n",
       "    </tr>\n",
       "    <tr>\n",
       "      <th>1001</th>\n",
       "      <td>dog</td>\n",
       "      <td>C:\\Users\\Professional\\Desktop\\lab python\\datas...</td>\n",
       "      <td>1</td>\n",
       "      <td>480</td>\n",
       "      <td>320</td>\n",
       "      <td>3</td>\n",
       "    </tr>\n",
       "    <tr>\n",
       "      <th>1002</th>\n",
       "      <td>dog</td>\n",
       "      <td>C:\\Users\\Professional\\Desktop\\lab python\\datas...</td>\n",
       "      <td>1</td>\n",
       "      <td>427</td>\n",
       "      <td>320</td>\n",
       "      <td>3</td>\n",
       "    </tr>\n",
       "    <tr>\n",
       "      <th>1003</th>\n",
       "      <td>dog</td>\n",
       "      <td>C:\\Users\\Professional\\Desktop\\lab python\\datas...</td>\n",
       "      <td>1</td>\n",
       "      <td>480</td>\n",
       "      <td>270</td>\n",
       "      <td>3</td>\n",
       "    </tr>\n",
       "    <tr>\n",
       "      <th>1004</th>\n",
       "      <td>dog</td>\n",
       "      <td>C:\\Users\\Professional\\Desktop\\lab python\\datas...</td>\n",
       "      <td>1</td>\n",
       "      <td>480</td>\n",
       "      <td>300</td>\n",
       "      <td>3</td>\n",
       "    </tr>\n",
       "    <tr>\n",
       "      <th>...</th>\n",
       "      <td>...</td>\n",
       "      <td>...</td>\n",
       "      <td>...</td>\n",
       "      <td>...</td>\n",
       "      <td>...</td>\n",
       "      <td>...</td>\n",
       "    </tr>\n",
       "    <tr>\n",
       "      <th>1995</th>\n",
       "      <td>dog</td>\n",
       "      <td>C:\\Users\\Professional\\Desktop\\lab python\\datas...</td>\n",
       "      <td>1</td>\n",
       "      <td>466</td>\n",
       "      <td>320</td>\n",
       "      <td>3</td>\n",
       "    </tr>\n",
       "    <tr>\n",
       "      <th>1996</th>\n",
       "      <td>dog</td>\n",
       "      <td>C:\\Users\\Professional\\Desktop\\lab python\\datas...</td>\n",
       "      <td>1</td>\n",
       "      <td>455</td>\n",
       "      <td>320</td>\n",
       "      <td>3</td>\n",
       "    </tr>\n",
       "    <tr>\n",
       "      <th>1997</th>\n",
       "      <td>dog</td>\n",
       "      <td>C:\\Users\\Professional\\Desktop\\lab python\\datas...</td>\n",
       "      <td>1</td>\n",
       "      <td>480</td>\n",
       "      <td>320</td>\n",
       "      <td>3</td>\n",
       "    </tr>\n",
       "    <tr>\n",
       "      <th>1998</th>\n",
       "      <td>dog</td>\n",
       "      <td>C:\\Users\\Professional\\Desktop\\lab python\\datas...</td>\n",
       "      <td>1</td>\n",
       "      <td>480</td>\n",
       "      <td>320</td>\n",
       "      <td>3</td>\n",
       "    </tr>\n",
       "    <tr>\n",
       "      <th>1999</th>\n",
       "      <td>dog</td>\n",
       "      <td>C:\\Users\\Professional\\Desktop\\lab python\\datas...</td>\n",
       "      <td>1</td>\n",
       "      <td>480</td>\n",
       "      <td>252</td>\n",
       "      <td>3</td>\n",
       "    </tr>\n",
       "  </tbody>\n",
       "</table>\n",
       "<p>1000 rows × 6 columns</p>\n",
       "</div>"
      ],
      "text/plain": [
       "     Name                                            AbsPath  ClassId  Weight  \\\n",
       "1000  dog  C:\\Users\\Professional\\Desktop\\lab python\\datas...        1     427   \n",
       "1001  dog  C:\\Users\\Professional\\Desktop\\lab python\\datas...        1     480   \n",
       "1002  dog  C:\\Users\\Professional\\Desktop\\lab python\\datas...        1     427   \n",
       "1003  dog  C:\\Users\\Professional\\Desktop\\lab python\\datas...        1     480   \n",
       "1004  dog  C:\\Users\\Professional\\Desktop\\lab python\\datas...        1     480   \n",
       "...   ...                                                ...      ...     ...   \n",
       "1995  dog  C:\\Users\\Professional\\Desktop\\lab python\\datas...        1     466   \n",
       "1996  dog  C:\\Users\\Professional\\Desktop\\lab python\\datas...        1     455   \n",
       "1997  dog  C:\\Users\\Professional\\Desktop\\lab python\\datas...        1     480   \n",
       "1998  dog  C:\\Users\\Professional\\Desktop\\lab python\\datas...        1     480   \n",
       "1999  dog  C:\\Users\\Professional\\Desktop\\lab python\\datas...        1     480   \n",
       "\n",
       "      Height  Depth  \n",
       "1000     320      3  \n",
       "1001     320      3  \n",
       "1002     320      3  \n",
       "1003     270      3  \n",
       "1004     300      3  \n",
       "...      ...    ...  \n",
       "1995     320      3  \n",
       "1996     320      3  \n",
       "1997     320      3  \n",
       "1998     320      3  \n",
       "1999     252      3  \n",
       "\n",
       "[1000 rows x 6 columns]"
      ]
     },
     "execution_count": 21,
     "metadata": {},
     "output_type": "execute_result"
    }
   ],
   "source": [
    "def df_filter_by_class_id(df, class_id) -> pd.DataFrame:\n",
    "    return df.loc[ df[\"ClassId\"] == class_id ]\n",
    "\n",
    "df_filter_by_class_id(df, 1)"
   ]
  }
 ],
 "metadata": {
  "kernelspec": {
   "display_name": ".venv",
   "language": "python",
   "name": "python3"
  },
  "language_info": {
   "codemirror_mode": {
    "name": "ipython",
    "version": 3
   },
   "file_extension": ".py",
   "mimetype": "text/x-python",
   "name": "python",
   "nbconvert_exporter": "python",
   "pygments_lexer": "ipython3",
   "version": "3.11.5"
  },
  "orig_nbformat": 4
 },
 "nbformat": 4,
 "nbformat_minor": 2
}
